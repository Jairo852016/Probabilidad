{
 "cells": [
  {
   "cell_type": "code",
   "execution_count": 2,
   "id": "e7054e58",
   "metadata": {},
   "outputs": [],
   "source": [
    "import numpy as np\n",
    "from numpy.random import binomial\n",
    "from scipy.stats import binom\n",
    "from math import factorial\n",
    "import matplotlib.pyplot as plt"
   ]
  },
  {
   "cell_type": "markdown",
   "id": "766c2c76",
   "metadata": {},
   "source": [
    "## Secuencias de eventos tipo Bernoulli\n",
    "\n",
    "$$\n",
    "P(k, n; p) = {n \\choose k} p^k (1-p)^{n-k} = \\frac{n!}{k!(n-k)!}p^k (1-p)^{n-k}\n",
    "$$"
   ]
  },
  {
   "cell_type": "code",
   "execution_count": 3,
   "id": "8ee88c3a",
   "metadata": {},
   "outputs": [],
   "source": [
    "# definición de la distribución binomial \n",
    "def my_binomial(k, n, p):\n",
    "  return factorial(n)/(factorial(k)*(factorial(n-k)))*pow(p,k)*pow(1-p, n-k) "
   ]
  },
  {
   "cell_type": "code",
   "execution_count": 4,
   "id": "acf0aa95",
   "metadata": {},
   "outputs": [
    {
     "name": "stdout",
     "output_type": "stream",
     "text": [
      "my binomial: 0.375\n"
     ]
    },
    {
     "data": {
      "text/plain": [
       "0.3750000000000001"
      ]
     },
     "execution_count": 4,
     "metadata": {},
     "output_type": "execute_result"
    }
   ],
   "source": [
    "print('my binomial: {}'.format(my_binomial(2, 3, 0.5)))\n",
    "dist = binom(3, 0.5)\n",
    "dist.pmf(2)"
   ]
  },
  {
   "cell_type": "markdown",
   "id": "1e515dde",
   "metadata": {},
   "source": [
    "## Validación del ejercicio hecho a mano\n",
    "\n",
    "$$\n",
    "P(k\\leq 2, n=3, p=1/2) = \\sum_{k=0}^2 \\left[ \\frac{n!}{k!(n-k)!}p^k (1-p)^{n-k} \\right] = \\frac{7}{8}\n",
    "$$\n"
   ]
  },
  {
   "cell_type": "code",
   "execution_count": 5,
   "id": "d4d7a784",
   "metadata": {},
   "outputs": [
    {
     "name": "stdout",
     "output_type": "stream",
     "text": [
      "0.875\n"
     ]
    },
    {
     "data": {
      "text/plain": [
       "0.875"
      ]
     },
     "execution_count": 5,
     "metadata": {},
     "output_type": "execute_result"
    }
   ],
   "source": [
    "print(7/8.0)\n",
    "dist.cdf(2)"
   ]
  },
  {
   "cell_type": "markdown",
   "id": "e90ce6fe",
   "metadata": {},
   "source": [
    "## Simulaciones de secuencias con generadores aleatorios\n",
    "\n",
    "* Los generadores aleatorios tienen como propósito simular muestras de datos que resultarían de muestreos en la vida real de procesos aleatorios como lanzar una moneda o un dado."
   ]
  },
  {
   "cell_type": "markdown",
   "id": "fa9d6b10",
   "metadata": {},
   "source": []
  },
  {
   "cell_type": "code",
   "execution_count": 14,
   "id": "d99519d6",
   "metadata": {},
   "outputs": [
    {
     "data": {
      "text/plain": [
       "1"
      ]
     },
     "execution_count": 14,
     "metadata": {},
     "output_type": "execute_result"
    }
   ],
   "source": [
    "# simulación con 100 lanzamientos de moneda equilibrada\n",
    "# (ejecuta esta celda varias veces para observar la variación en los resultados)\n",
    "p=0.5\n",
    "n=3\n",
    "binomial(n, p)"
   ]
  },
  {
   "cell_type": "code",
   "execution_count": 15,
   "id": "5aa59c9b",
   "metadata": {},
   "outputs": [],
   "source": [
    "# Vamos a hacer un experimento generando una muestra de conjuntos de lanzamientos de a 3 monedas\n",
    "arr = []\n",
    "for _ in range(100):\n",
    "  arr.append(binomial(n, p))"
   ]
  },
  {
   "cell_type": "code",
   "execution_count": 16,
   "id": "b2afd6d5",
   "metadata": {},
   "outputs": [
    {
     "data": {
      "text/plain": [
       "[0,\n",
       " 1,\n",
       " 1,\n",
       " 1,\n",
       " 1,\n",
       " 2,\n",
       " 1,\n",
       " 1,\n",
       " 1,\n",
       " 0,\n",
       " 3,\n",
       " 3,\n",
       " 1,\n",
       " 2,\n",
       " 0,\n",
       " 0,\n",
       " 2,\n",
       " 2,\n",
       " 2,\n",
       " 1,\n",
       " 2,\n",
       " 3,\n",
       " 0,\n",
       " 1,\n",
       " 1,\n",
       " 3,\n",
       " 3,\n",
       " 2,\n",
       " 2,\n",
       " 1,\n",
       " 1,\n",
       " 2,\n",
       " 0,\n",
       " 2,\n",
       " 1,\n",
       " 1,\n",
       " 2,\n",
       " 2,\n",
       " 2,\n",
       " 3,\n",
       " 1,\n",
       " 3,\n",
       " 0,\n",
       " 1,\n",
       " 2,\n",
       " 3,\n",
       " 2,\n",
       " 1,\n",
       " 0,\n",
       " 2,\n",
       " 1,\n",
       " 2,\n",
       " 2,\n",
       " 3,\n",
       " 2,\n",
       " 1,\n",
       " 2,\n",
       " 2,\n",
       " 1,\n",
       " 1,\n",
       " 1,\n",
       " 1,\n",
       " 1,\n",
       " 3,\n",
       " 2,\n",
       " 1,\n",
       " 0,\n",
       " 1,\n",
       " 0,\n",
       " 2,\n",
       " 2,\n",
       " 0,\n",
       " 2,\n",
       " 1,\n",
       " 1,\n",
       " 1,\n",
       " 1,\n",
       " 3,\n",
       " 1,\n",
       " 0,\n",
       " 1,\n",
       " 2,\n",
       " 1,\n",
       " 1,\n",
       " 1,\n",
       " 1,\n",
       " 2,\n",
       " 2,\n",
       " 2,\n",
       " 1,\n",
       " 2,\n",
       " 2,\n",
       " 2,\n",
       " 1,\n",
       " 0,\n",
       " 1,\n",
       " 1,\n",
       " 2,\n",
       " 2,\n",
       " 0]"
      ]
     },
     "execution_count": 16,
     "metadata": {},
     "output_type": "execute_result"
    }
   ],
   "source": [
    "arr"
   ]
  },
  {
   "cell_type": "code",
   "execution_count": 18,
   "id": "9f86f885",
   "metadata": {},
   "outputs": [
    {
     "data": {
      "image/png": "[encoded data removed]",
      "text/plain": [
       "<Figure size 432x288 with 1 Axes>"
      ]
     },
     "metadata": {
      "needs_background": "light"
     },
     "output_type": "display_data"
    },
    {
     "data": {
      "image/png": "[encoded data removed]",
      "text/plain": [
       "<Figure size 432x288 with 1 Axes>"
      ]
     },
     "metadata": {
      "needs_background": "light"
     },
     "output_type": "display_data"
    },
    {
     "data": {
      "image/png": "[encoded data removed]",
      "text/plain": [
       "<Figure size 432x288 with 1 Axes>"
      ]
     },
     "metadata": {
      "needs_background": "light"
     },
     "output_type": "display_data"
    }
   ],
   "source": [
    "def plot_hist(num_trials):\n",
    "  values = [0,1,2,3] #0 caras, 1 cara, 2 caras y 3 caras\n",
    "  arr = []\n",
    "  for _ in range(num_trials):\n",
    "    arr.append(binomial(3, 0.5))\n",
    "  distribucion_simulada = np.unique(arr, return_counts=True)[1]/len(arr)\n",
    "  distribucion_teorica = [binom(3, 0.5).pmf(k) for k in values]\n",
    "  plt.bar(values, distribucion_teorica, label = 'teoría', color = 'red')\n",
    "  plt.bar(values, distribucion_simulada, label = 'simulación', alpha = 0.5, color = 'blue')\n",
    "  plt.title('simulación con {} experimentos'.format(num_trials))\n",
    "  plt.show()\n",
    "\n",
    "plot_hist(20)\n",
    "plot_hist(200)\n",
    "plot_hist(20000)\n"
   ]
  },
  {
   "cell_type": "code",
   "execution_count": null,
   "id": "758a38fc",
   "metadata": {},
   "outputs": [],
   "source": []
  }
 ],
 "metadata": {
  "kernelspec": {
   "display_name": "Python 3 (ipykernel)",
   "language": "python",
   "name": "python3"
  },
  "language_info": {
   "codemirror_mode": {
    "name": "ipython",
    "version": 3
   },
   "file_extension": ".py",
   "mimetype": "text/x-python",
   "name": "python",
   "nbconvert_exporter": "python",
   "pygments_lexer": "ipython3",
   "version": "3.9.7"
  }
 },
 "nbformat": 4,
 "nbformat_minor": 5
}
